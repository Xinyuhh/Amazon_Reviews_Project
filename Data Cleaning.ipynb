{
 "cells": [
  {
   "cell_type": "code",
   "execution_count": 0,
   "metadata": {
    "application/vnd.databricks.v1+cell": {
     "cellMetadata": {
      "byteLimit": 2048000,
      "rowLimit": 10000
     },
     "inputWidgets": {},
     "nuid": "60e05fe5-24b2-40d6-8769-c99d381abc45",
     "showTitle": false,
     "title": ""
    }
   },
   "outputs": [],
   "source": [
    "import os\n",
    "# To work with Amazon S3 storage, set the following variables using\n",
    "# your AWS Access Key and Secret Key\n",
    "# Set the Region to where your files are stored in S3.\n",
    "access_key = 'AKIA***AWHA'\n",
    "secret_key = 'MSuJ***0mX/'\n",
    "# Set the environment variables so boto3 can pick them up later.\n",
    "# Do not modify the next three lines of code\n",
    "os.environ['AWS_ACCESS_KEY_ID'] = access_key\n",
    "os.environ['AWS_SECRET_ACCESS_KEY'] = secret_key\n",
    "encoded_secret_key = secret_key.replace(\"/\", \"%2F\").replace(\"+\", \"%2B\")\n",
    "# Set aws_region to where your S3 bucket was created\n",
    "aws_region = \"us-east-2\""
   ]
  },
  {
   "cell_type": "code",
   "execution_count": 0,
   "metadata": {
    "application/vnd.databricks.v1+cell": {
     "cellMetadata": {
      "byteLimit": 2048000,
      "rowLimit": 10000
     },
     "inputWidgets": {},
     "nuid": "569a5007-0e37-45f3-83c5-0cf7d3dce680",
     "showTitle": false,
     "title": ""
    }
   },
   "outputs": [],
   "source": [
    "from pyspark.sql import SparkSession\n",
    "\n",
    "# Create a SparkConf and SparkContext\n",
    "spark = SparkSession.builder.appName(\"amazon-reviews-project\").getOrCreate()\n",
    "\n",
    "# Update the Spark options to work with our AWS Credentials\n",
    "# Do not modify the next three lines\n",
    "spark._jsc.hadoopConfiguration().set(\"fs.s3a.access.key\", access_key)\n",
    "spark._jsc.hadoopConfiguration().set(\"fs.s3a.secret.key\", secret_key)\n",
    "spark._jsc.hadoopConfiguration().set(\"fs.s3a.endpoint\", \"s3.\" + aws_region + \".amazonaws.com\")"
   ]
  },
  {
   "cell_type": "code",
   "execution_count": 0,
   "metadata": {
    "application/vnd.databricks.v1+cell": {
     "cellMetadata": {
      "byteLimit": 2048000,
      "rowLimit": 10000
     },
     "inputWidgets": {},
     "nuid": "72ca1802-74f7-4887-a867-39cb97448edb",
     "showTitle": false,
     "title": ""
    }
   },
   "outputs": [
    {
     "output_type": "stream",
     "name": "stdout",
     "output_type": "stream",
     "text": [
      "Out[177]: DataFrame[marketplace: string, customer_id: int, review_id: string, product_id: string, product_parent: int, product_title: string, product_category: string, star_rating: int, helpful_votes: int, total_votes: int, vine: string, verified_purchase: string, review_headline: string, review_body: string, review_date: date]"
     ]
    }
   ],
   "source": [
    "file_path = 's3a://amazon-reviews-project-xh/landing/amazon_reviews_multilingual_US_v1_00.tsv'\n",
    "sdf = spark.read.csv(file_path, sep='\\t', header=True, inferSchema=True)\n",
    "sdf"
   ]
  },
  {
   "cell_type": "code",
   "execution_count": 0,
   "metadata": {
    "application/vnd.databricks.v1+cell": {
     "cellMetadata": {
      "byteLimit": 2048000,
      "rowLimit": 10000
     },
     "inputWidgets": {},
     "nuid": "7397a3f3-bbf5-454c-97c2-052bf5544510",
     "showTitle": false,
     "title": ""
    }
   },
   "outputs": [
    {
     "output_type": "stream",
     "name": "stdout",
     "output_type": "stream",
     "text": [
      "root\n |-- marketplace: string (nullable = true)\n |-- customer_id: integer (nullable = true)\n |-- review_id: string (nullable = true)\n |-- product_id: string (nullable = true)\n |-- product_parent: integer (nullable = true)\n |-- product_title: string (nullable = true)\n |-- product_category: string (nullable = true)\n |-- star_rating: integer (nullable = true)\n |-- helpful_votes: integer (nullable = true)\n |-- total_votes: integer (nullable = true)\n |-- vine: string (nullable = true)\n |-- verified_purchase: string (nullable = true)\n |-- review_headline: string (nullable = true)\n |-- review_body: string (nullable = true)\n |-- review_date: date (nullable = true)\n\n"
     ]
    }
   ],
   "source": [
    "# Print schema\n",
    "sdf.printSchema()"
   ]
  },
  {
   "cell_type": "code",
   "execution_count": 0,
   "metadata": {
    "application/vnd.databricks.v1+cell": {
     "cellMetadata": {
      "byteLimit": 2048000,
      "rowLimit": 10000
     },
     "inputWidgets": {},
     "nuid": "43f1380a-601a-4b65-8f5e-f4641274d9c8",
     "showTitle": false,
     "title": ""
    }
   },
   "outputs": [
    {
     "output_type": "stream",
     "name": "stdout",
     "output_type": "stream",
     "text": [
      "+-----------+-----------+--------------+----------+--------------+--------------------+----------------+-----------+-------------+-----------+----+-----------------+--------------------+--------------------+-----------+\n|marketplace|customer_id|     review_id|product_id|product_parent|       product_title|product_category|star_rating|helpful_votes|total_votes|vine|verified_purchase|     review_headline|         review_body|review_date|\n+-----------+-----------+--------------+----------+--------------+--------------------+----------------+-----------+-------------+-----------+----+-----------------+--------------------+--------------------+-----------+\n|         US|   53096384| R63J84G1LOX6R|1563890119|     763187671|The Sandman Vol. ...|           Books|          4|            0|          1|   N|                N|ignore the review...|this is the first...| 1995-08-13|\n|         US|   53096399|R1BALOA11Z06MT|1559947608|     381720534|The 22 Immutable ...|           Books|          4|            0|          0|   N|                N|             awesome|I've always been ...| 1995-08-17|\n|         US|   53096332|R1LLAY5W5PZUS4|0671701800|     860650224|             Contact|           Books|          5|            1|          2|   N|                N|Read the book. It...|This is a book ab...| 1995-08-30|\n|         US|   53096335|R3R9VTJ82FXECQ|0425132153|     624269601|          Good Omens|           Books|          5|            0|          0|   N|                N|Funniest book eve...|This is quite pos...| 1995-09-11|\n|         US|   51747709|R1P5J3FNBWTFXY|0517122707|     161411385|A Confederacy of ...|           Books|          5|            0|          0|   N|                N|A winner that did...|The story behind ...| 1995-10-17|\n|         US|   53095881|R2XQTCOBWNCEAC|0345350499|     627223385| The Mists of Avalon|           Books|          5|            0|          0|   N|                N|One of the best b...|Marion Zimmer Bra...| 1995-11-02|\n|         US|   53096485|  R87VUTMFOE6N|B000002OTL|     877615083|Pulp Fiction: Mus...|           Music|          5|            0|          1|   N|                N|Pulp Fiction Soun...|Pulp Fiction the ...| 1995-11-11|\n|         US|   53096485| RVS529AN21RR3|6302136105|     701401373|     The Doors [VHS]|           Video|          5|            1|          2|   N|                N|The Doors: The be...|The Doors is one ...| 1995-11-11|\n|         US|   53095748| RG6LPC4W8LN29|0399134204|      31287929|   The Joy Luck Club|           Books|          5|            0|          1|   N|                N|Gives a deeper un...|The book in some ...| 1995-11-15|\n|         US|   53071277| RDFIE1IF0IYFH|0887306667|     381720534|The 22 Immutable ...|           Books|          5|            0|          0|   N|                N|One of the best m...|This book is a fa...| 1996-05-12|\n+-----------+-----------+--------------+----------+--------------+--------------------+----------------+-----------+-------------+-----------+----+-----------------+--------------------+--------------------+-----------+\nonly showing top 10 rows\n\n"
     ]
    }
   ],
   "source": [
    "# Show dataframe\n",
    "sdf.show(10)"
   ]
  },
  {
   "cell_type": "code",
   "execution_count": 0,
   "metadata": {
    "application/vnd.databricks.v1+cell": {
     "cellMetadata": {
      "byteLimit": 2048000,
      "rowLimit": 10000
     },
     "inputWidgets": {},
     "nuid": "5edfc8d2-09ce-438a-bb49-27747b12125e",
     "showTitle": false,
     "title": ""
    }
   },
   "outputs": [
    {
     "output_type": "stream",
     "name": "stdout",
     "output_type": "stream",
     "text": [
      "Out[180]: ['marketplace',\n 'customer_id',\n 'review_id',\n 'product_id',\n 'product_parent',\n 'product_title',\n 'product_category',\n 'star_rating',\n 'helpful_votes',\n 'total_votes',\n 'vine',\n 'verified_purchase',\n 'review_headline',\n 'review_body',\n 'review_date']"
     ]
    }
   ],
   "source": [
    "# Show column names\n",
    "sdf.columns"
   ]
  },
  {
   "cell_type": "code",
   "execution_count": 0,
   "metadata": {
    "application/vnd.databricks.v1+cell": {
     "cellMetadata": {
      "byteLimit": 2048000,
      "rowLimit": 10000
     },
     "inputWidgets": {},
     "nuid": "53547877-dc98-4b75-939d-6032e109f8b3",
     "showTitle": false,
     "title": ""
    }
   },
   "outputs": [
    {
     "output_type": "stream",
     "name": "stdout",
     "output_type": "stream",
     "text": [
      "Out[181]: 6931166"
     ]
    }
   ],
   "source": [
    "# Get the number of records in the dataframe\n",
    "sdf.count()"
   ]
  },
  {
   "cell_type": "code",
   "execution_count": 0,
   "metadata": {
    "application/vnd.databricks.v1+cell": {
     "cellMetadata": {
      "byteLimit": 2048000,
      "rowLimit": 10000
     },
     "inputWidgets": {},
     "nuid": "e859b907-59e5-4481-af87-0fb5b9db1cdb",
     "showTitle": false,
     "title": ""
    }
   },
   "outputs": [
    {
     "output_type": "stream",
     "name": "stdout",
     "output_type": "stream",
     "text": [
      "root\n |-- marketplace: string (nullable = true)\n |-- customer_id: integer (nullable = true)\n |-- review_id: string (nullable = true)\n |-- product_id: string (nullable = true)\n |-- product_parent: integer (nullable = true)\n |-- product_title: string (nullable = true)\n |-- product_category: string (nullable = true)\n |-- star_rating: integer (nullable = true)\n |-- helpful_votes: integer (nullable = true)\n |-- total_votes: integer (nullable = true)\n |-- vine: string (nullable = true)\n |-- verified_purchase: string (nullable = true)\n |-- review_headline: string (nullable = true)\n |-- review_body: string (nullable = true)\n |-- review_date: date (nullable = true)\n\n"
     ]
    }
   ],
   "source": [
    "# Import some functions we will need later on\n",
    "from pyspark.sql.functions import col, isnan, when, count, udf\n",
    "\n",
    "# Set the Spark logging level to only show errors \n",
    "sc.setLogLevel(\"ERROR\")\n",
    "\n",
    "# Set up the path to an Amazon reviews data stored on S3 \n",
    "bucket = 'amazon-reviews-project-xh/landing/'\n",
    "filename = 'amazon_reviews_multilingual_US_v1_00.tsv' \n",
    "file_path = 's3a://' + bucket + filename\n",
    "\n",
    "# Create a Spark Dataframe from the file on S3\n",
    "sdf = spark.read.csv(file_path, sep='\\t', header=True, inferSchema=True)\n",
    "\n",
    "# Check the schema\n",
    "sdf.printSchema()"
   ]
  },
  {
   "cell_type": "code",
   "execution_count": 0,
   "metadata": {
    "application/vnd.databricks.v1+cell": {
     "cellMetadata": {
      "byteLimit": 2048000,
      "rowLimit": 10000
     },
     "inputWidgets": {},
     "nuid": "999ba927-abc7-4060-85f6-331aad394d77",
     "showTitle": false,
     "title": ""
    }
   },
   "outputs": [],
   "source": [
    "# Take a sample of the data without replacement\n",
    "sdf = sdf.sample(False, 0.25)"
   ]
  },
  {
   "cell_type": "code",
   "execution_count": 0,
   "metadata": {
    "application/vnd.databricks.v1+cell": {
     "cellMetadata": {
      "byteLimit": 2048000,
      "rowLimit": 10000
     },
     "inputWidgets": {},
     "nuid": "cfb21e06-0015-4565-95c6-def7d5946853",
     "showTitle": false,
     "title": ""
    }
   },
   "outputs": [
    {
     "output_type": "stream",
     "name": "stdout",
     "output_type": "stream",
     "text": [
      "+-------+-----------+--------------------+--------------+--------------------+--------------------+--------------------------+----------------+------------------+------------------+-----------------+-------+-----------------+---------------+--------------------+\n|summary|marketplace|         customer_id|     review_id|          product_id|      product_parent|             product_title|product_category|       star_rating|     helpful_votes|      total_votes|   vine|verified_purchase|review_headline|         review_body|\n+-------+-----------+--------------------+--------------+--------------------+--------------------+--------------------------+----------------+------------------+------------------+-----------------+-------+-----------------+---------------+--------------------+\n|  count|    1734340|             1734340|       1734340|             1734340|             1734340|                   1734340|         1734340|           1734340|           1734340|          1734340|1734340|          1734340|        1734339|             1734213|\n|   mean|       null|2.9152151352882363E7|          null|1.0690933154068949E9|  4.93362333464876E8|         448310.7684210526|            null| 4.305930209762791|2.0313698582746174| 3.23691260075879|   null|             null|            NaN|1.851952153042816...|\n| stddev|       null| 1.565149628530917E7|          null| 1.442002305953092E9|2.8624474430021304E8|        2067440.5536132662|            null|1.1463026563588274| 36.38463610491105|40.74243398193376|   null|             null|            NaN|1.557385671958908...|\n|    min|         US|               10073|R10001OP8YVPFD|          0001712071|              225472|                     !DOS!|         Apparel|                 1|                 0|                0|      N|                N|         \u001A\u001A\u001A\u001A\u001A\u001A|\\bPlease make oth...|\n|    25%|       null|            14992067|          null|        3.45803485E8|           249510863|                      21.0|            null|                 4|                 0|                0|   null|             null|            5.0|                 1.0|\n|    50%|       null|            28751689|          null|        6.34029355E8|           496520461|                     360.0|            null|                 5|                 0|                0|   null|             null|           10.0|                 1.0|\n|    75%|       null|            44104749|          null|       1.419701533E9|           745272701|                    1989.0|            null|                 5|                 1|                2|   null|             null|          360.0|                 4.0|\n|    max|         US|            53096589| RZZZUX0C7UB75|          B01I0K018W|           999988076|ライヴ・イン・アイルランド|        Wireless|                 5|             27550|            28727|      Y|                Y| 🙅🙅🙅🙅🙅🙅🙅|🚾😡😟😈😟😡💩😡?...|\n+-------+-----------+--------------------+--------------+--------------------+--------------------+--------------------------+----------------+------------------+------------------+-----------------+-------+-----------------+---------------+--------------------+\n\n"
     ]
    }
   ],
   "source": [
    "# Summary of dataframe\n",
    "sdf.summary().show()"
   ]
  },
  {
   "cell_type": "code",
   "execution_count": 0,
   "metadata": {
    "application/vnd.databricks.v1+cell": {
     "cellMetadata": {
      "byteLimit": 2048000,
      "rowLimit": 10000
     },
     "inputWidgets": {},
     "nuid": "ff484cdb-977f-473c-a915-2ce2530e28fa",
     "showTitle": false,
     "title": ""
    }
   },
   "outputs": [
    {
     "output_type": "stream",
     "name": "stdout",
     "output_type": "stream",
     "text": [
      "+-------+-----------+----------+--------------------+--------------------+-----------+-------------+-----------+\n|summary|customer_id|product_id|     review_headline|         review_body|star_rating|helpful_votes|total_votes|\n+-------+-----------+----------+--------------------+--------------------+-----------+-------------+-----------+\n|  count|    1731997|   1731997|             1731991|             1731854|    1731997|      1731997|    1731997|\n|    min|      10020|0001046314|              \u001A\u001A\u001A\u001A\u001A\u001A|\u001A\u001A\u001AExcelente disc...|          1|            0|          0|\n|    max|   53096584|B01MXDEXCW|🙌🙌🙌🙌🙌🙌🙌🙌?...|🚼 🚺💮😁😁👕😃🔩...|          5|        10466|      12016|\n+-------+-----------+----------+--------------------+--------------------+-----------+-------------+-----------+\n\n"
     ]
    }
   ],
   "source": [
    "# Look at statistics for specific columns\n",
    "sdf.select(\"customer_id\",\"product_id\", \"review_headline\", \"review_body\", \"star_rating\", \"helpful_votes\", \"total_votes\").summary(\"count\", \"min\", \"max\").show()"
   ]
  },
  {
   "cell_type": "code",
   "execution_count": 0,
   "metadata": {
    "application/vnd.databricks.v1+cell": {
     "cellMetadata": {
      "byteLimit": 2048000,
      "rowLimit": 10000
     },
     "inputWidgets": {},
     "nuid": "ef269ca1-4248-429c-86dd-fa1b7b9d2e63",
     "showTitle": false,
     "title": ""
    }
   },
   "outputs": [
    {
     "output_type": "stream",
     "name": "stdout",
     "output_type": "stream",
     "text": [
      "+-----------+----------+---------------+-----------+-----------+-------------+-----------+\n|customer_id|product_id|review_headline|review_body|star_rating|helpful_votes|total_votes|\n+-----------+----------+---------------+-----------+-----------+-------------+-----------+\n|          0|         0|             10|        143|          0|            0|          0|\n+-----------+----------+---------------+-----------+-----------+-------------+-----------+\n\n"
     ]
    }
   ],
   "source": [
    "# Check to see if the columns have NULL values \n",
    "sdf.select([count(when(isnan(c) | col(c).isNull(), c)).alias(c) for c in [\"customer_id\",\"product_id\", \"review_headline\", \"review_body\", \"star_rating\", \"helpful_votes\", \"total_votes\"]] ).show()"
   ]
  },
  {
   "cell_type": "code",
   "execution_count": 0,
   "metadata": {
    "application/vnd.databricks.v1+cell": {
     "cellMetadata": {
      "byteLimit": 2048000,
      "rowLimit": 10000
     },
     "inputWidgets": {},
     "nuid": "649005ec-4135-4f8a-ab3b-d5e452e0b526",
     "showTitle": false,
     "title": ""
    }
   },
   "outputs": [
    {
     "output_type": "stream",
     "name": "stdout",
     "output_type": "stream",
     "text": [
      "+-----------+----------+---------------+-----------+-----------+-------------+-----------+\n|customer_id|product_id|review_headline|review_body|star_rating|helpful_votes|total_votes|\n+-----------+----------+---------------+-----------+-----------+-------------+-----------+\n|          0|         0|              4|          0|          0|            0|          0|\n+-----------+----------+---------------+-----------+-----------+-------------+-----------+\n\n"
     ]
    }
   ],
   "source": [
    "# Drop some of the records where the certain columns are empty (null or nan)\n",
    "sdf = sdf.na.drop(subset=[\"customer_id\",\"product_id\", \"review_headline\", \"review_body\", \"star_rating\", \"helpful_votes\", \"total_votes\"])\n",
    "sdf.select([count(when(isnan(c) | col(c).isNull(), c)).alias(c) for c in [\"customer_id\",\"product_id\", \"review_headline\", \"review_body\", \"star_rating\", \"helpful_votes\", \"total_votes\"]] ).show()"
   ]
  },
  {
   "cell_type": "code",
   "execution_count": 0,
   "metadata": {
    "application/vnd.databricks.v1+cell": {
     "cellMetadata": {
      "byteLimit": 2048000,
      "rowLimit": 10000
     },
     "inputWidgets": {},
     "nuid": "79100359-6b5e-4e04-8afa-b47921e1ee59",
     "showTitle": false,
     "title": ""
    }
   },
   "outputs": [
    {
     "output_type": "stream",
     "name": "stdout",
     "output_type": "stream",
     "text": [
      "Out[188]: 1731848"
     ]
    }
   ],
   "source": [
    "sdf.count()"
   ]
  },
  {
   "cell_type": "code",
   "execution_count": 0,
   "metadata": {
    "application/vnd.databricks.v1+cell": {
     "cellMetadata": {
      "byteLimit": 2048000,
      "rowLimit": 10000
     },
     "inputWidgets": {},
     "nuid": "3b0dc58f-44c5-4663-a0ce-0a26d323cb2e",
     "showTitle": false,
     "title": ""
    }
   },
   "outputs": [
    {
     "output_type": "stream",
     "name": "stdout",
     "output_type": "stream",
     "text": [
      "+-------+-----------------+----------------+---------------------+--------------------+-----------------+-------------------+-----------------+\n|summary|clean_customer_id|clean_product_id|clean_review_headline|   clean_review_body|clean_star_rating|clean_helpful_votes|clean_total_votes|\n+-------+-----------------+----------------+---------------------+--------------------+-----------------+-------------------+-----------------+\n|  count|          1731848|         1731848|              1731848|             1731848|          1731848|            1731848|          1731848|\n|    min|           100000|      0001046314|                     |                    |                1|                  0|                0|\n|    max|          9999998|      B01MXDEXCW| ~~~~~tedious trip...|~~~~~~~~~~~~~~~~~...|                5|                999|              996|\n+-------+-----------------+----------------+---------------------+--------------------+-----------------+-------------------+-----------------+\n\n"
     ]
    }
   ],
   "source": [
    "from pyspark.sql.functions import udf\n",
    "from pyspark.sql.types import StringType\n",
    "\n",
    "def ascii_only(myvalue):\n",
    "    if myvalue is not None:\n",
    "        if isinstance(myvalue, str):\n",
    "            return myvalue.encode('ascii', 'ignore').decode('ascii')\n",
    "        elif isinstance(myvalue, int):\n",
    "            return str(myvalue).encode('ascii', 'ignore').decode('ascii')\n",
    "    return None\n",
    "\n",
    "# Turn this function into a User-Defined Function (UDF)\n",
    "ascii_udf = udf(ascii_only, StringType())\n",
    "\n",
    "# Clean up the columns\n",
    "sdf = sdf.withColumn(\"clean_customer_id\", ascii_udf('customer_id')) \n",
    "sdf = sdf.withColumn(\"clean_product_id\", ascii_udf('product_id')) \n",
    "sdf = sdf.withColumn(\"clean_review_headline\", ascii_udf('review_headline')) \n",
    "sdf = sdf.withColumn(\"clean_review_body\", ascii_udf('review_body'))\n",
    "sdf = sdf.withColumn(\"clean_star_rating\", ascii_udf('star_rating'))\n",
    "sdf = sdf.withColumn(\"clean_helpful_votes\", ascii_udf('helpful_votes'))\n",
    "sdf = sdf.withColumn(\"clean_total_votes\", ascii_udf('total_votes'))\n",
    "\n",
    "# Re-check the cleaned columns\n",
    "sdf.select(\"clean_customer_id\", \"clean_product_id\", \"clean_review_headline\", \"clean_review_body\", \"clean_star_rating\", \"clean_helpful_votes\", \"clean_total_votes\").summary(\"count\", \"min\", \"max\").show()\n"
   ]
  },
  {
   "cell_type": "code",
   "execution_count": 0,
   "metadata": {
    "application/vnd.databricks.v1+cell": {
     "cellMetadata": {
      "byteLimit": 2048000,
      "rowLimit": 10000
     },
     "inputWidgets": {},
     "nuid": "331b5fec-7887-4e36-ba28-04d6c037f68a",
     "showTitle": false,
     "title": ""
    }
   },
   "outputs": [],
   "source": [
    "output_file_path=\"s3://amazon-reviews-project-xh/raw/clean_amazon_reviews_multilingual_US_v1_00.tsv\" \n",
    "sdf.write.mode(\"overwrite\").options(header='True', delimiter='\\t').csv(output_file_path)"
   ]
  },
  {
   "cell_type": "code",
   "execution_count": 0,
   "metadata": {
    "application/vnd.databricks.v1+cell": {
     "cellMetadata": {
      "byteLimit": 2048000,
      "rowLimit": 10000
     },
     "inputWidgets": {},
     "nuid": "d4f48847-c285-4b4b-a034-5cc4d971a969",
     "showTitle": false,
     "title": ""
    }
   },
   "outputs": [],
   "source": [
    "# Read the TSV file back into a DataFrame\n",
    "sdf = spark.read.option(\"header\", \"true\").option(\"delimiter\", \"\\t\").csv(output_file_path)\n"
   ]
  },
  {
   "cell_type": "code",
   "execution_count": 0,
   "metadata": {
    "application/vnd.databricks.v1+cell": {
     "cellMetadata": {},
     "inputWidgets": {},
     "nuid": "8fcdb4e5-dda4-482f-924e-37786cfbb057",
     "showTitle": false,
     "title": ""
    }
   },
   "outputs": [],
   "source": []
  }
 ],
 "metadata": {
  "application/vnd.databricks.v1+notebook": {
   "dashboards": [],
   "language": "python",
   "notebookMetadata": {
    "pythonIndentUnit": 4
   },
   "notebookName": "Data Cleaning",
   "widgets": {}
  },
  "kernelspec": {
   "display_name": "Python 3 (ipykernel)",
   "language": "python",
   "name": "python3"
  },
  "language_info": {
   "codemirror_mode": {
    "name": "ipython",
    "version": 3
   },
   "file_extension": ".py",
   "mimetype": "text/x-python",
   "name": "python",
   "nbconvert_exporter": "python",
   "pygments_lexer": "ipython3",
   "version": "3.9.12"
  }
 },
 "nbformat": 4,
 "nbformat_minor": 0
}
